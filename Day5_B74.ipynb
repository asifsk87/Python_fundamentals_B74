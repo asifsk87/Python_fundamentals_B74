{
 "cells": [
  {
   "cell_type": "code",
   "execution_count": null,
   "id": "b334295b",
   "metadata": {},
   "outputs": [],
   "source": [
    "Working with the list data type"
   ]
  },
  {
   "cell_type": "code",
   "execution_count": null,
   "id": "46bf2bdb",
   "metadata": {},
   "outputs": [],
   "source": [
    "Organising the list data type"
   ]
  },
  {
   "cell_type": "code",
   "execution_count": 1,
   "id": "21d3b551",
   "metadata": {},
   "outputs": [
    {
     "name": "stdout",
     "output_type": "stream",
     "text": [
      "['kia', 'benz', 'maruthi', 'honda', 'bmw', 'audi']\n"
     ]
    }
   ],
   "source": [
    "cars = ['kia','benz','maruthi','honda','bmw','audi']\n",
    "\n",
    "print(cars)"
   ]
  },
  {
   "cell_type": "code",
   "execution_count": 2,
   "id": "466ea9e1",
   "metadata": {},
   "outputs": [
    {
     "name": "stdout",
     "output_type": "stream",
     "text": [
      "['audi', 'benz', 'bmw', 'honda', 'kia', 'maruthi']\n"
     ]
    }
   ],
   "source": [
    "print(sorted(cars)) ------> Temporary approach"
   ]
  },
  {
   "cell_type": "code",
   "execution_count": 3,
   "id": "88b2f51e",
   "metadata": {},
   "outputs": [
    {
     "name": "stdout",
     "output_type": "stream",
     "text": [
      "['kia', 'benz', 'maruthi', 'honda', 'bmw', 'audi']\n"
     ]
    }
   ],
   "source": [
    "print(cars)"
   ]
  },
  {
   "cell_type": "code",
   "execution_count": 4,
   "id": "3a36588f",
   "metadata": {},
   "outputs": [],
   "source": [
    "cars.sort() -------> Permanent approach"
   ]
  },
  {
   "cell_type": "code",
   "execution_count": 5,
   "id": "58c9fbcd",
   "metadata": {},
   "outputs": [
    {
     "name": "stdout",
     "output_type": "stream",
     "text": [
      "['audi', 'benz', 'bmw', 'honda', 'kia', 'maruthi']\n"
     ]
    }
   ],
   "source": [
    "print(cars)"
   ]
  },
  {
   "cell_type": "code",
   "execution_count": null,
   "id": "3c67ea57",
   "metadata": {},
   "outputs": [],
   "source": []
  },
  {
   "cell_type": "code",
   "execution_count": null,
   "id": "7a93cfce",
   "metadata": {},
   "outputs": [],
   "source": [
    "# i want to print the list in reverse order"
   ]
  },
  {
   "cell_type": "code",
   "execution_count": 6,
   "id": "2acb3886",
   "metadata": {},
   "outputs": [
    {
     "name": "stdout",
     "output_type": "stream",
     "text": [
      "['audi', 'benz', 'bmw', 'honda', 'kia', 'maruthi']\n"
     ]
    }
   ],
   "source": [
    "print(cars)"
   ]
  },
  {
   "cell_type": "code",
   "execution_count": 7,
   "id": "87ff04a8",
   "metadata": {},
   "outputs": [],
   "source": [
    "cars.reverse()"
   ]
  },
  {
   "cell_type": "code",
   "execution_count": 8,
   "id": "ade44d27",
   "metadata": {},
   "outputs": [
    {
     "name": "stdout",
     "output_type": "stream",
     "text": [
      "['maruthi', 'kia', 'honda', 'bmw', 'benz', 'audi']\n"
     ]
    }
   ],
   "source": [
    "print(cars)"
   ]
  },
  {
   "cell_type": "code",
   "execution_count": null,
   "id": "8536be6a",
   "metadata": {},
   "outputs": [],
   "source": [
    "# i want to know the no of elements in the list"
   ]
  },
  {
   "cell_type": "code",
   "execution_count": 9,
   "id": "07386a35",
   "metadata": {},
   "outputs": [
    {
     "data": {
      "text/plain": [
       "6"
      ]
     },
     "execution_count": 9,
     "metadata": {},
     "output_type": "execute_result"
    }
   ],
   "source": [
    "len(cars)"
   ]
  },
  {
   "cell_type": "code",
   "execution_count": null,
   "id": "9b940e99",
   "metadata": {},
   "outputs": [],
   "source": []
  },
  {
   "cell_type": "code",
   "execution_count": null,
   "id": "00478914",
   "metadata": {},
   "outputs": [],
   "source": [
    "Inroduction to slicing :"
   ]
  },
  {
   "cell_type": "code",
   "execution_count": null,
   "id": "8f863bfd",
   "metadata": {},
   "outputs": [],
   "source": [
    "students = ['asif','shaik','akhil','david','sadiya','iqra','divya','swathi']"
   ]
  },
  {
   "cell_type": "code",
   "execution_count": 10,
   "id": "54d3b7fa",
   "metadata": {},
   "outputs": [
    {
     "ename": "NameError",
     "evalue": "name 'students' is not defined",
     "output_type": "error",
     "traceback": [
      "\u001b[1;31m---------------------------------------------------------------------------\u001b[0m",
      "\u001b[1;31mNameError\u001b[0m                                 Traceback (most recent call last)",
      "\u001b[1;32m~\\AppData\\Local\\Temp\\ipykernel_8644\\933520084.py\u001b[0m in \u001b[0;36m<module>\u001b[1;34m\u001b[0m\n\u001b[1;32m----> 1\u001b[1;33m \u001b[0mprint\u001b[0m\u001b[1;33m(\u001b[0m\u001b[0mstudents\u001b[0m\u001b[1;33m)\u001b[0m\u001b[1;33m\u001b[0m\u001b[1;33m\u001b[0m\u001b[0m\n\u001b[0m",
      "\u001b[1;31mNameError\u001b[0m: name 'students' is not defined"
     ]
    }
   ],
   "source": [
    "print(students)"
   ]
  },
  {
   "cell_type": "code",
   "execution_count": 11,
   "id": "9214d46f",
   "metadata": {},
   "outputs": [],
   "source": [
    "students = ['asif','shaik','akhil','david','sadiya','iqra','divya','swathi']"
   ]
  },
  {
   "cell_type": "code",
   "execution_count": 12,
   "id": "9d24db21",
   "metadata": {},
   "outputs": [
    {
     "name": "stdout",
     "output_type": "stream",
     "text": [
      "['asif', 'shaik', 'akhil', 'david', 'sadiya', 'iqra', 'divya', 'swathi']\n"
     ]
    }
   ],
   "source": [
    "print(students)"
   ]
  },
  {
   "cell_type": "code",
   "execution_count": 13,
   "id": "1f9f04a9",
   "metadata": {},
   "outputs": [
    {
     "data": {
      "text/plain": [
       "list"
      ]
     },
     "execution_count": 13,
     "metadata": {},
     "output_type": "execute_result"
    }
   ],
   "source": [
    "type(students)"
   ]
  },
  {
   "cell_type": "code",
   "execution_count": null,
   "id": "4b60fcf9",
   "metadata": {},
   "outputs": [],
   "source": [
    "# general syntax of slicing"
   ]
  },
  {
   "cell_type": "code",
   "execution_count": null,
   "id": "c45ed8c2",
   "metadata": {},
   "outputs": [],
   "source": [
    "[startvalue :stopvalue :stepcount]"
   ]
  },
  {
   "cell_type": "code",
   "execution_count": null,
   "id": "dc7e951f",
   "metadata": {},
   "outputs": [],
   "source": [
    "# i want asif and shaik in the output ?"
   ]
  },
  {
   "cell_type": "code",
   "execution_count": 14,
   "id": "e61a3893",
   "metadata": {},
   "outputs": [
    {
     "name": "stdout",
     "output_type": "stream",
     "text": [
      "['asif', 'shaik']\n"
     ]
    }
   ],
   "source": [
    "print(students[0:2])"
   ]
  },
  {
   "cell_type": "code",
   "execution_count": 15,
   "id": "6c1a86c7",
   "metadata": {},
   "outputs": [
    {
     "name": "stdout",
     "output_type": "stream",
     "text": [
      "['akhil', 'david']\n"
     ]
    }
   ],
   "source": [
    "print(students[2:4])"
   ]
  },
  {
   "cell_type": "code",
   "execution_count": 16,
   "id": "3a084c8f",
   "metadata": {},
   "outputs": [
    {
     "name": "stdout",
     "output_type": "stream",
     "text": [
      "['sadiya', 'iqra']\n"
     ]
    }
   ],
   "source": [
    "print(students[4:6])"
   ]
  },
  {
   "cell_type": "code",
   "execution_count": 17,
   "id": "200d4b13",
   "metadata": {},
   "outputs": [
    {
     "name": "stdout",
     "output_type": "stream",
     "text": [
      "['divya', 'swathi']\n"
     ]
    }
   ],
   "source": [
    "print(students[6:8])"
   ]
  },
  {
   "cell_type": "code",
   "execution_count": 18,
   "id": "479198b4",
   "metadata": {},
   "outputs": [
    {
     "name": "stdout",
     "output_type": "stream",
     "text": [
      "['asif', 'shaik', 'akhil', 'david', 'sadiya', 'iqra', 'divya', 'swathi']\n"
     ]
    }
   ],
   "source": [
    "print(students)"
   ]
  },
  {
   "cell_type": "code",
   "execution_count": null,
   "id": "57b4c0f9",
   "metadata": {},
   "outputs": [],
   "source": []
  },
  {
   "cell_type": "code",
   "execution_count": null,
   "id": "082713e7",
   "metadata": {},
   "outputs": [],
   "source": [
    "[startvalue :stopvalue :stepcount]"
   ]
  },
  {
   "cell_type": "code",
   "execution_count": 19,
   "id": "f0ea0df5",
   "metadata": {},
   "outputs": [
    {
     "name": "stdout",
     "output_type": "stream",
     "text": [
      "['asif', 'akhil', 'sadiya', 'divya']\n"
     ]
    }
   ],
   "source": [
    "print(students[0:8:2])"
   ]
  },
  {
   "cell_type": "code",
   "execution_count": 20,
   "id": "a2ed64a6",
   "metadata": {},
   "outputs": [
    {
     "name": "stdout",
     "output_type": "stream",
     "text": [
      "['asif', 'shaik', 'akhil', 'david', 'sadiya', 'iqra', 'divya', 'swathi']\n"
     ]
    }
   ],
   "source": [
    "print(students[0:8:1])"
   ]
  },
  {
   "cell_type": "code",
   "execution_count": 21,
   "id": "4ee556c9",
   "metadata": {},
   "outputs": [
    {
     "name": "stdout",
     "output_type": "stream",
     "text": [
      "['asif', 'david', 'divya']\n"
     ]
    }
   ],
   "source": [
    "print(students[0:8:3])"
   ]
  },
  {
   "cell_type": "code",
   "execution_count": 22,
   "id": "190cbe04",
   "metadata": {},
   "outputs": [
    {
     "name": "stdout",
     "output_type": "stream",
     "text": [
      "['asif', 'sadiya']\n"
     ]
    }
   ],
   "source": [
    "print(students[0:8:4])"
   ]
  },
  {
   "cell_type": "code",
   "execution_count": 23,
   "id": "2224a9d5",
   "metadata": {},
   "outputs": [
    {
     "name": "stdout",
     "output_type": "stream",
     "text": [
      "['asif', 'shaik', 'akhil', 'david', 'sadiya', 'iqra', 'divya', 'swathi']\n"
     ]
    }
   ],
   "source": [
    "print(students)"
   ]
  },
  {
   "cell_type": "code",
   "execution_count": null,
   "id": "72cbf4cd",
   "metadata": {},
   "outputs": [],
   "source": []
  },
  {
   "cell_type": "code",
   "execution_count": null,
   "id": "a46c41a6",
   "metadata": {},
   "outputs": [],
   "source": []
  },
  {
   "cell_type": "code",
   "execution_count": null,
   "id": "5fc35e84",
   "metadata": {},
   "outputs": [],
   "source": []
  },
  {
   "cell_type": "code",
   "execution_count": null,
   "id": "9cbf058f",
   "metadata": {},
   "outputs": [],
   "source": []
  },
  {
   "cell_type": "code",
   "execution_count": null,
   "id": "66a01075",
   "metadata": {},
   "outputs": [],
   "source": []
  },
  {
   "cell_type": "code",
   "execution_count": null,
   "id": "6a1b000c",
   "metadata": {},
   "outputs": [],
   "source": []
  },
  {
   "cell_type": "code",
   "execution_count": null,
   "id": "3c53332e",
   "metadata": {},
   "outputs": [],
   "source": []
  }
 ],
 "metadata": {
  "kernelspec": {
   "display_name": "Python 3 (ipykernel)",
   "language": "python",
   "name": "python3"
  },
  "language_info": {
   "codemirror_mode": {
    "name": "ipython",
    "version": 3
   },
   "file_extension": ".py",
   "mimetype": "text/x-python",
   "name": "python",
   "nbconvert_exporter": "python",
   "pygments_lexer": "ipython3",
   "version": "3.9.13"
  }
 },
 "nbformat": 4,
 "nbformat_minor": 5
}
