{
 "cells": [
  {
   "cell_type": "code",
   "execution_count": null,
   "id": "d726ad16",
   "metadata": {},
   "outputs": [],
   "source": [
    "understanding the variables in python :"
   ]
  },
  {
   "cell_type": "code",
   "execution_count": null,
   "id": "12eddd95",
   "metadata": {},
   "outputs": [],
   "source": []
  },
  {
   "cell_type": "code",
   "execution_count": 1,
   "id": "db1e76d8",
   "metadata": {},
   "outputs": [],
   "source": [
    "x = 5\n",
    "\n",
    "y = 11"
   ]
  },
  {
   "cell_type": "code",
   "execution_count": 2,
   "id": "4d87bdb6",
   "metadata": {},
   "outputs": [
    {
     "name": "stdout",
     "output_type": "stream",
     "text": [
      "55\n"
     ]
    }
   ],
   "source": [
    "z = x*y\n",
    "\n",
    "print(z)"
   ]
  },
  {
   "cell_type": "code",
   "execution_count": null,
   "id": "aca1096a",
   "metadata": {},
   "outputs": [],
   "source": []
  },
  {
   "cell_type": "code",
   "execution_count": null,
   "id": "2c9072f7",
   "metadata": {},
   "outputs": [],
   "source": [
    "Rule for declaring the variables in python :"
   ]
  },
  {
   "cell_type": "code",
   "execution_count": null,
   "id": "031af323",
   "metadata": {},
   "outputs": [],
   "source": [
    "Rule 1 : No Namespaces while declaring the variables in python"
   ]
  },
  {
   "cell_type": "code",
   "execution_count": 3,
   "id": "65d5e297",
   "metadata": {},
   "outputs": [
    {
     "ename": "SyntaxError",
     "evalue": "invalid syntax (2641235572.py, line 1)",
     "output_type": "error",
     "traceback": [
      "\u001b[1;36m  File \u001b[1;32m\"C:\\Users\\asifs\\AppData\\Local\\Temp\\ipykernel_10312\\2641235572.py\"\u001b[1;36m, line \u001b[1;32m1\u001b[0m\n\u001b[1;33m    first name = 'asif'\u001b[0m\n\u001b[1;37m          ^\u001b[0m\n\u001b[1;31mSyntaxError\u001b[0m\u001b[1;31m:\u001b[0m invalid syntax\n"
     ]
    }
   ],
   "source": [
    "first name = 'asif'\n",
    "\n",
    "print(first name)"
   ]
  },
  {
   "cell_type": "code",
   "execution_count": 4,
   "id": "a3adb65c",
   "metadata": {},
   "outputs": [
    {
     "name": "stdout",
     "output_type": "stream",
     "text": [
      "asif\n"
     ]
    }
   ],
   "source": [
    "firstname = 'asif'\n",
    "\n",
    "print(firstname)"
   ]
  },
  {
   "cell_type": "code",
   "execution_count": 5,
   "id": "43ad88d5",
   "metadata": {},
   "outputs": [
    {
     "name": "stdout",
     "output_type": "stream",
     "text": [
      "asif\n"
     ]
    }
   ],
   "source": [
    "first_name = 'asif'\n",
    "\n",
    "print(first_name)"
   ]
  },
  {
   "cell_type": "code",
   "execution_count": null,
   "id": "aff90a8c",
   "metadata": {},
   "outputs": [],
   "source": []
  },
  {
   "cell_type": "code",
   "execution_count": null,
   "id": "e62288f0",
   "metadata": {},
   "outputs": [],
   "source": [
    "Rule 2 : A variable name should not start with a number**"
   ]
  },
  {
   "cell_type": "code",
   "execution_count": 6,
   "id": "898b3bb4",
   "metadata": {},
   "outputs": [
    {
     "ename": "SyntaxError",
     "evalue": "invalid syntax (3356069336.py, line 1)",
     "output_type": "error",
     "traceback": [
      "\u001b[1;36m  File \u001b[1;32m\"C:\\Users\\asifs\\AppData\\Local\\Temp\\ipykernel_10312\\3356069336.py\"\u001b[1;36m, line \u001b[1;32m1\u001b[0m\n\u001b[1;33m    1name = 'asif'\u001b[0m\n\u001b[1;37m     ^\u001b[0m\n\u001b[1;31mSyntaxError\u001b[0m\u001b[1;31m:\u001b[0m invalid syntax\n"
     ]
    }
   ],
   "source": [
    "1name = 'asif'\n",
    "\n",
    "print(1name)"
   ]
  },
  {
   "cell_type": "code",
   "execution_count": 7,
   "id": "3d572c33",
   "metadata": {},
   "outputs": [
    {
     "name": "stdout",
     "output_type": "stream",
     "text": [
      "asif\n"
     ]
    }
   ],
   "source": [
    "name1 = 'asif'\n",
    "\n",
    "print(name1)"
   ]
  },
  {
   "cell_type": "code",
   "execution_count": null,
   "id": "e6ea93b1",
   "metadata": {},
   "outputs": [],
   "source": []
  },
  {
   "cell_type": "code",
   "execution_count": null,
   "id": "35e366dd",
   "metadata": {},
   "outputs": [],
   "source": [
    "Rule 3 : A variable name should not contain any special characters "
   ]
  },
  {
   "cell_type": "code",
   "execution_count": 8,
   "id": "450d33bc",
   "metadata": {},
   "outputs": [
    {
     "ename": "SyntaxError",
     "evalue": "invalid syntax (2521235775.py, line 1)",
     "output_type": "error",
     "traceback": [
      "\u001b[1;36m  File \u001b[1;32m\"C:\\Users\\asifs\\AppData\\Local\\Temp\\ipykernel_10312\\2521235775.py\"\u001b[1;36m, line \u001b[1;32m1\u001b[0m\n\u001b[1;33m    name@ = 'asif'\u001b[0m\n\u001b[1;37m          ^\u001b[0m\n\u001b[1;31mSyntaxError\u001b[0m\u001b[1;31m:\u001b[0m invalid syntax\n"
     ]
    }
   ],
   "source": [
    "name@ = 'asif'\n",
    "\n",
    "print(name@)"
   ]
  },
  {
   "cell_type": "code",
   "execution_count": null,
   "id": "3c28bdad",
   "metadata": {},
   "outputs": [],
   "source": []
  },
  {
   "cell_type": "code",
   "execution_count": null,
   "id": "01effd3a",
   "metadata": {},
   "outputs": [],
   "source": [
    "How to declare the string data types ?"
   ]
  },
  {
   "cell_type": "code",
   "execution_count": null,
   "id": "690b20cf",
   "metadata": {},
   "outputs": [],
   "source": [
    "There are 2 approaches"
   ]
  },
  {
   "cell_type": "code",
   "execution_count": null,
   "id": "d785bf44",
   "metadata": {},
   "outputs": [],
   "source": [
    "1.Single quote\n",
    "\n",
    "2.Double quote"
   ]
  },
  {
   "cell_type": "code",
   "execution_count": 9,
   "id": "06c83c6f",
   "metadata": {},
   "outputs": [
    {
     "name": "stdout",
     "output_type": "stream",
     "text": [
      "shaik\n"
     ]
    }
   ],
   "source": [
    "name = 'shaik'\n",
    "\n",
    "print(name)"
   ]
  },
  {
   "cell_type": "code",
   "execution_count": 10,
   "id": "56a953fe",
   "metadata": {},
   "outputs": [
    {
     "name": "stdout",
     "output_type": "stream",
     "text": [
      "syed\n"
     ]
    }
   ],
   "source": [
    "name2 = \"syed\"\n",
    "\n",
    "print(name2)"
   ]
  },
  {
   "cell_type": "code",
   "execution_count": null,
   "id": "717ec197",
   "metadata": {},
   "outputs": [],
   "source": []
  },
  {
   "cell_type": "code",
   "execution_count": null,
   "id": "17d2b312",
   "metadata": {},
   "outputs": [],
   "source": [
    "Introduction to string methods :"
   ]
  },
  {
   "cell_type": "code",
   "execution_count": 11,
   "id": "b97b721b",
   "metadata": {},
   "outputs": [
    {
     "data": {
      "text/plain": [
       "str"
      ]
     },
     "execution_count": 11,
     "metadata": {},
     "output_type": "execute_result"
    }
   ],
   "source": [
    "type(name)"
   ]
  },
  {
   "cell_type": "code",
   "execution_count": 12,
   "id": "800c81aa",
   "metadata": {},
   "outputs": [
    {
     "data": {
      "text/plain": [
       "str"
      ]
     },
     "execution_count": 12,
     "metadata": {},
     "output_type": "execute_result"
    }
   ],
   "source": [
    "type(name2)"
   ]
  },
  {
   "cell_type": "code",
   "execution_count": 13,
   "id": "ab426571",
   "metadata": {},
   "outputs": [
    {
     "name": "stdout",
     "output_type": "stream",
     "text": [
      "asif shaik\n"
     ]
    }
   ],
   "source": [
    "fullname = 'asif shaik'\n",
    "\n",
    "print(fullname)"
   ]
  },
  {
   "cell_type": "code",
   "execution_count": null,
   "id": "c2b6504e",
   "metadata": {},
   "outputs": [],
   "source": [
    "# req to get in the right format"
   ]
  },
  {
   "cell_type": "code",
   "execution_count": 14,
   "id": "55169d1d",
   "metadata": {},
   "outputs": [
    {
     "name": "stdout",
     "output_type": "stream",
     "text": [
      "Asif Shaik\n"
     ]
    }
   ],
   "source": [
    "print(fullname.title())"
   ]
  },
  {
   "cell_type": "code",
   "execution_count": null,
   "id": "dc7be5b2",
   "metadata": {},
   "outputs": [],
   "source": [
    "# req to get the name in capital letters"
   ]
  },
  {
   "cell_type": "code",
   "execution_count": 15,
   "id": "50183484",
   "metadata": {},
   "outputs": [
    {
     "name": "stdout",
     "output_type": "stream",
     "text": [
      "ASIF SHAIK\n"
     ]
    }
   ],
   "source": [
    "print(fullname.upper())"
   ]
  },
  {
   "cell_type": "code",
   "execution_count": null,
   "id": "2880c157",
   "metadata": {},
   "outputs": [],
   "source": [
    "# req to get the name in small letters"
   ]
  },
  {
   "cell_type": "code",
   "execution_count": 16,
   "id": "9dac4d46",
   "metadata": {},
   "outputs": [
    {
     "name": "stdout",
     "output_type": "stream",
     "text": [
      "asif shaik\n"
     ]
    }
   ],
   "source": [
    "print(fullname.lower())"
   ]
  },
  {
   "cell_type": "code",
   "execution_count": null,
   "id": "436fb931",
   "metadata": {},
   "outputs": [],
   "source": []
  },
  {
   "cell_type": "code",
   "execution_count": null,
   "id": "82ceabab",
   "metadata": {},
   "outputs": [],
   "source": []
  },
  {
   "cell_type": "code",
   "execution_count": null,
   "id": "6ab6f5c8",
   "metadata": {},
   "outputs": [],
   "source": []
  },
  {
   "cell_type": "code",
   "execution_count": null,
   "id": "5aa170d6",
   "metadata": {},
   "outputs": [],
   "source": []
  },
  {
   "cell_type": "code",
   "execution_count": null,
   "id": "f5031651",
   "metadata": {},
   "outputs": [],
   "source": []
  },
  {
   "cell_type": "code",
   "execution_count": null,
   "id": "aade6a16",
   "metadata": {},
   "outputs": [],
   "source": []
  },
  {
   "cell_type": "code",
   "execution_count": null,
   "id": "58977d82",
   "metadata": {},
   "outputs": [],
   "source": []
  },
  {
   "cell_type": "code",
   "execution_count": null,
   "id": "6e1d895d",
   "metadata": {},
   "outputs": [],
   "source": []
  }
 ],
 "metadata": {
  "kernelspec": {
   "display_name": "Python 3 (ipykernel)",
   "language": "python",
   "name": "python3"
  },
  "language_info": {
   "codemirror_mode": {
    "name": "ipython",
    "version": 3
   },
   "file_extension": ".py",
   "mimetype": "text/x-python",
   "name": "python",
   "nbconvert_exporter": "python",
   "pygments_lexer": "ipython3",
   "version": "3.9.13"
  }
 },
 "nbformat": 4,
 "nbformat_minor": 5
}
