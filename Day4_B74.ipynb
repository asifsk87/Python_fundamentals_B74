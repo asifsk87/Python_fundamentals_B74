{
 "cells": [
  {
   "cell_type": "code",
   "execution_count": null,
   "id": "87199381",
   "metadata": {},
   "outputs": [],
   "source": [
    "Introdution to list data type"
   ]
  },
  {
   "cell_type": "code",
   "execution_count": 1,
   "id": "58db9bc9",
   "metadata": {},
   "outputs": [],
   "source": [
    "students = ['asif','pavan','siraj','vikram','kiran']"
   ]
  },
  {
   "cell_type": "code",
   "execution_count": 2,
   "id": "ecf8ea42",
   "metadata": {},
   "outputs": [
    {
     "name": "stdout",
     "output_type": "stream",
     "text": [
      "['asif', 'pavan', 'siraj', 'vikram', 'kiran']\n"
     ]
    }
   ],
   "source": [
    "print(students)"
   ]
  },
  {
   "cell_type": "code",
   "execution_count": 3,
   "id": "3307ca72",
   "metadata": {},
   "outputs": [
    {
     "data": {
      "text/plain": [
       "list"
      ]
     },
     "execution_count": 3,
     "metadata": {},
     "output_type": "execute_result"
    }
   ],
   "source": [
    "type(students)"
   ]
  },
  {
   "cell_type": "code",
   "execution_count": null,
   "id": "c172a5f5",
   "metadata": {},
   "outputs": [],
   "source": []
  },
  {
   "cell_type": "code",
   "execution_count": null,
   "id": "d8970deb",
   "metadata": {},
   "outputs": [],
   "source": [
    "Introduction to indexing : 0,1,2,3,4,5"
   ]
  },
  {
   "cell_type": "code",
   "execution_count": null,
   "id": "c73cb878",
   "metadata": {},
   "outputs": [],
   "source": [
    "# req : i want to get siraj name in the o/p ....?"
   ]
  },
  {
   "cell_type": "code",
   "execution_count": 4,
   "id": "2c7f37e1",
   "metadata": {},
   "outputs": [
    {
     "name": "stdout",
     "output_type": "stream",
     "text": [
      "siraj\n"
     ]
    }
   ],
   "source": [
    "print(students[2])"
   ]
  },
  {
   "cell_type": "code",
   "execution_count": null,
   "id": "abab6a34",
   "metadata": {},
   "outputs": [],
   "source": [
    "# 'vikram' name...?"
   ]
  },
  {
   "cell_type": "code",
   "execution_count": 5,
   "id": "af96c850",
   "metadata": {},
   "outputs": [
    {
     "name": "stdout",
     "output_type": "stream",
     "text": [
      "vikram\n"
     ]
    }
   ],
   "source": [
    "print(students[3])"
   ]
  },
  {
   "cell_type": "code",
   "execution_count": 7,
   "id": "479f82cd",
   "metadata": {},
   "outputs": [
    {
     "name": "stdout",
     "output_type": "stream",
     "text": [
      "Vikram\n"
     ]
    }
   ],
   "source": [
    "print(students[3].title())"
   ]
  },
  {
   "cell_type": "code",
   "execution_count": 8,
   "id": "096046d8",
   "metadata": {},
   "outputs": [
    {
     "name": "stdout",
     "output_type": "stream",
     "text": [
      "['asif', 'pavan', 'siraj', 'vikram', 'kiran']\n"
     ]
    }
   ],
   "source": [
    "print(students)"
   ]
  },
  {
   "cell_type": "code",
   "execution_count": null,
   "id": "c1a57e62",
   "metadata": {},
   "outputs": [],
   "source": []
  },
  {
   "cell_type": "code",
   "execution_count": null,
   "id": "e13c9642",
   "metadata": {},
   "outputs": [],
   "source": [
    "# req : i want to add malik to the above"
   ]
  },
  {
   "cell_type": "code",
   "execution_count": 9,
   "id": "bef1e86d",
   "metadata": {},
   "outputs": [],
   "source": [
    "students.append('malik')"
   ]
  },
  {
   "cell_type": "code",
   "execution_count": 10,
   "id": "94583b15",
   "metadata": {},
   "outputs": [
    {
     "name": "stdout",
     "output_type": "stream",
     "text": [
      "['asif', 'pavan', 'siraj', 'vikram', 'kiran', 'malik']\n"
     ]
    }
   ],
   "source": [
    "print(students)"
   ]
  },
  {
   "cell_type": "code",
   "execution_count": null,
   "id": "3647f495",
   "metadata": {},
   "outputs": [],
   "source": [
    "# req : fathima"
   ]
  },
  {
   "cell_type": "code",
   "execution_count": 11,
   "id": "f3cbc18a",
   "metadata": {},
   "outputs": [],
   "source": [
    "students.append('fathima')"
   ]
  },
  {
   "cell_type": "code",
   "execution_count": 12,
   "id": "754add6e",
   "metadata": {},
   "outputs": [
    {
     "name": "stdout",
     "output_type": "stream",
     "text": [
      "['asif', 'pavan', 'siraj', 'vikram', 'kiran', 'malik', 'fathima']\n"
     ]
    }
   ],
   "source": [
    "print(students)"
   ]
  },
  {
   "cell_type": "code",
   "execution_count": null,
   "id": "0acc0baa",
   "metadata": {},
   "outputs": [],
   "source": [
    "# req : shahid --- in the 1st index"
   ]
  },
  {
   "cell_type": "code",
   "execution_count": 13,
   "id": "2ae3846a",
   "metadata": {},
   "outputs": [],
   "source": [
    "students.insert(1,'shahid')"
   ]
  },
  {
   "cell_type": "code",
   "execution_count": 14,
   "id": "a6751569",
   "metadata": {},
   "outputs": [
    {
     "name": "stdout",
     "output_type": "stream",
     "text": [
      "['asif', 'shahid', 'pavan', 'siraj', 'vikram', 'kiran', 'malik', 'fathima']\n"
     ]
    }
   ],
   "source": [
    "print(students)"
   ]
  },
  {
   "cell_type": "code",
   "execution_count": 15,
   "id": "6387cbaf",
   "metadata": {},
   "outputs": [
    {
     "name": "stdout",
     "output_type": "stream",
     "text": [
      "VIKRAM\n"
     ]
    }
   ],
   "source": [
    "print(students[4].upper())"
   ]
  },
  {
   "cell_type": "code",
   "execution_count": 16,
   "id": "6ada8092",
   "metadata": {},
   "outputs": [
    {
     "name": "stdout",
     "output_type": "stream",
     "text": [
      "['asif', 'shahid', 'pavan', 'siraj', 'vikram', 'kiran', 'malik', 'fathima']\n"
     ]
    }
   ],
   "source": [
    "print(students)"
   ]
  },
  {
   "cell_type": "code",
   "execution_count": 17,
   "id": "c4e86611",
   "metadata": {},
   "outputs": [
    {
     "name": "stdout",
     "output_type": "stream",
     "text": [
      "Asif\n"
     ]
    }
   ],
   "source": [
    "print(students[0].title())"
   ]
  },
  {
   "cell_type": "code",
   "execution_count": 18,
   "id": "ed05385a",
   "metadata": {},
   "outputs": [
    {
     "name": "stdout",
     "output_type": "stream",
     "text": [
      "['asif', 'shahid', 'pavan', 'siraj', 'vikram', 'kiran', 'malik', 'fathima']\n"
     ]
    }
   ],
   "source": [
    "print(students)"
   ]
  },
  {
   "cell_type": "code",
   "execution_count": null,
   "id": "67b919a8",
   "metadata": {},
   "outputs": [],
   "source": [
    "# req to modify siraj name to shami"
   ]
  },
  {
   "cell_type": "code",
   "execution_count": 19,
   "id": "768fce11",
   "metadata": {},
   "outputs": [],
   "source": [
    "students[3] = 'shami'"
   ]
  },
  {
   "cell_type": "code",
   "execution_count": 20,
   "id": "ccf8284b",
   "metadata": {},
   "outputs": [
    {
     "name": "stdout",
     "output_type": "stream",
     "text": [
      "['asif', 'shahid', 'pavan', 'shami', 'vikram', 'kiran', 'malik', 'fathima']\n"
     ]
    }
   ],
   "source": [
    "print(students)"
   ]
  },
  {
   "cell_type": "code",
   "execution_count": null,
   "id": "d463acc8",
   "metadata": {},
   "outputs": [],
   "source": [
    "# req to delete permanently"
   ]
  },
  {
   "cell_type": "code",
   "execution_count": 21,
   "id": "deb3d8d0",
   "metadata": {},
   "outputs": [],
   "source": [
    "del students[2]"
   ]
  },
  {
   "cell_type": "code",
   "execution_count": 22,
   "id": "cc2aecf0",
   "metadata": {},
   "outputs": [
    {
     "name": "stdout",
     "output_type": "stream",
     "text": [
      "['asif', 'shahid', 'shami', 'vikram', 'kiran', 'malik', 'fathima']\n"
     ]
    }
   ],
   "source": [
    "print(students)"
   ]
  },
  {
   "cell_type": "code",
   "execution_count": null,
   "id": "cd725753",
   "metadata": {},
   "outputs": [],
   "source": [
    "# pop by default it will delete the last element in the list and will be saved in the variable assigned"
   ]
  },
  {
   "cell_type": "code",
   "execution_count": 23,
   "id": "c986b1aa",
   "metadata": {},
   "outputs": [
    {
     "name": "stdout",
     "output_type": "stream",
     "text": [
      "['asif', 'shahid', 'shami', 'vikram', 'kiran', 'malik', 'fathima']\n"
     ]
    }
   ],
   "source": [
    "print(students)"
   ]
  },
  {
   "cell_type": "code",
   "execution_count": 24,
   "id": "5d5a7cf8",
   "metadata": {},
   "outputs": [],
   "source": [
    "x = students.pop()"
   ]
  },
  {
   "cell_type": "code",
   "execution_count": 25,
   "id": "6278e171",
   "metadata": {},
   "outputs": [
    {
     "name": "stdout",
     "output_type": "stream",
     "text": [
      "['asif', 'shahid', 'shami', 'vikram', 'kiran', 'malik']\n"
     ]
    }
   ],
   "source": [
    "print(students)"
   ]
  },
  {
   "cell_type": "code",
   "execution_count": 26,
   "id": "68761d79",
   "metadata": {},
   "outputs": [
    {
     "name": "stdout",
     "output_type": "stream",
     "text": [
      "fathima\n"
     ]
    }
   ],
   "source": [
    "print(x)"
   ]
  },
  {
   "cell_type": "code",
   "execution_count": null,
   "id": "b601542e",
   "metadata": {},
   "outputs": [],
   "source": [
    "Introduction to negative indexing :"
   ]
  },
  {
   "cell_type": "code",
   "execution_count": 27,
   "id": "1e602bf3",
   "metadata": {},
   "outputs": [
    {
     "name": "stdout",
     "output_type": "stream",
     "text": [
      "['asif', 'shahid', 'shami', 'vikram', 'kiran', 'malik']\n"
     ]
    }
   ],
   "source": [
    "print(students)"
   ]
  },
  {
   "cell_type": "code",
   "execution_count": 28,
   "id": "e2f71b54",
   "metadata": {},
   "outputs": [
    {
     "name": "stdout",
     "output_type": "stream",
     "text": [
      "kiran\n"
     ]
    }
   ],
   "source": [
    "print(students[-2])"
   ]
  },
  {
   "cell_type": "code",
   "execution_count": 29,
   "id": "d9db7d7c",
   "metadata": {},
   "outputs": [
    {
     "name": "stdout",
     "output_type": "stream",
     "text": [
      "['asif', 'shahid', 'shami', 'vikram', 'kiran', 'malik']\n"
     ]
    }
   ],
   "source": [
    "print(students)"
   ]
  },
  {
   "cell_type": "code",
   "execution_count": null,
   "id": "22fbbf77",
   "metadata": {},
   "outputs": [],
   "source": []
  },
  {
   "cell_type": "code",
   "execution_count": null,
   "id": "045485ac",
   "metadata": {},
   "outputs": [],
   "source": []
  },
  {
   "cell_type": "code",
   "execution_count": null,
   "id": "a22829f6",
   "metadata": {},
   "outputs": [],
   "source": []
  }
 ],
 "metadata": {
  "kernelspec": {
   "display_name": "Python 3 (ipykernel)",
   "language": "python",
   "name": "python3"
  },
  "language_info": {
   "codemirror_mode": {
    "name": "ipython",
    "version": 3
   },
   "file_extension": ".py",
   "mimetype": "text/x-python",
   "name": "python",
   "nbconvert_exporter": "python",
   "pygments_lexer": "ipython3",
   "version": "3.9.13"
  }
 },
 "nbformat": 4,
 "nbformat_minor": 5
}
