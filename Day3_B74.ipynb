{
 "cells": [
  {
   "cell_type": "code",
   "execution_count": null,
   "id": "b410146b",
   "metadata": {},
   "outputs": [],
   "source": [
    "Continuation with string data type :"
   ]
  },
  {
   "cell_type": "code",
   "execution_count": null,
   "id": "d8ce851c",
   "metadata": {},
   "outputs": [],
   "source": []
  },
  {
   "cell_type": "code",
   "execution_count": 1,
   "id": "d84db11f",
   "metadata": {},
   "outputs": [],
   "source": [
    "first_name = 'asif'\n",
    "last_name = 'shaik'"
   ]
  },
  {
   "cell_type": "code",
   "execution_count": null,
   "id": "e6a4fc19",
   "metadata": {},
   "outputs": [],
   "source": [
    "# req : i want to get the full name ?"
   ]
  },
  {
   "cell_type": "code",
   "execution_count": null,
   "id": "74f51f2b",
   "metadata": {},
   "outputs": [],
   "source": []
  },
  {
   "cell_type": "code",
   "execution_count": null,
   "id": "54673d9f",
   "metadata": {},
   "outputs": [],
   "source": [
    "Understanding the concept of f string**"
   ]
  },
  {
   "cell_type": "code",
   "execution_count": null,
   "id": "3d3e6908",
   "metadata": {},
   "outputs": [],
   "source": [
    "# general concept of f strings"
   ]
  },
  {
   "cell_type": "code",
   "execution_count": null,
   "id": "962cc049",
   "metadata": {},
   "outputs": [],
   "source": [
    "f\" custom words {place_holder - 1} {place_holder - 2}.........{place_holder ----n} \"         "
   ]
  },
  {
   "cell_type": "code",
   "execution_count": null,
   "id": "3ae92be4",
   "metadata": {},
   "outputs": [],
   "source": []
  },
  {
   "cell_type": "code",
   "execution_count": 2,
   "id": "309f0852",
   "metadata": {},
   "outputs": [
    {
     "name": "stdout",
     "output_type": "stream",
     "text": [
      " asif shaik\n"
     ]
    }
   ],
   "source": [
    "full_name = f\" {first_name} {last_name}\"\n",
    "\n",
    "print(full_name)"
   ]
  },
  {
   "cell_type": "code",
   "execution_count": 3,
   "id": "430213e3",
   "metadata": {},
   "outputs": [
    {
     "name": "stdout",
     "output_type": "stream",
     "text": [
      " keep up the good work ,  Asif Shaik\n"
     ]
    }
   ],
   "source": [
    "message = f\" keep up the good work , {full_name.title()}\"\n",
    "\n",
    "print(message)"
   ]
  },
  {
   "cell_type": "code",
   "execution_count": null,
   "id": "476aff17",
   "metadata": {},
   "outputs": [],
   "source": []
  },
  {
   "cell_type": "code",
   "execution_count": null,
   "id": "0e7aea99",
   "metadata": {},
   "outputs": [],
   "source": [
    "Adding the white spaces :"
   ]
  },
  {
   "cell_type": "code",
   "execution_count": 4,
   "id": "7da00824",
   "metadata": {},
   "outputs": [
    {
     "name": "stdout",
     "output_type": "stream",
     "text": [
      "favourite_programming_language_:pythonjavaC++swiftpascalcobal\n"
     ]
    }
   ],
   "source": [
    "print(\"favourite_programming_language_:pythonjavaC++swiftpascalcobal\")"
   ]
  },
  {
   "cell_type": "code",
   "execution_count": null,
   "id": "f7975354",
   "metadata": {},
   "outputs": [],
   "source": [
    "\\n ------> it is called as new line delimiter"
   ]
  },
  {
   "cell_type": "code",
   "execution_count": 5,
   "id": "97cbfe5f",
   "metadata": {},
   "outputs": [
    {
     "name": "stdout",
     "output_type": "stream",
     "text": [
      "favourite_programming_language_:\n",
      "python\n",
      "java\n",
      "C++\n",
      "swift\n",
      "pascal\n",
      "cobal\n"
     ]
    }
   ],
   "source": [
    "print(\"favourite_programming_language_:\\npython\\njava\\nC++\\nswift\\npascal\\ncobal\")"
   ]
  },
  {
   "cell_type": "code",
   "execution_count": null,
   "id": "a132d20a",
   "metadata": {},
   "outputs": [],
   "source": [
    "\\t ------> tab delimiter"
   ]
  },
  {
   "cell_type": "code",
   "execution_count": 6,
   "id": "f3790b7d",
   "metadata": {},
   "outputs": [
    {
     "name": "stdout",
     "output_type": "stream",
     "text": [
      "favourite_programming_language_:\n",
      "\tpython\n",
      "\tjava\n",
      "\tC++\n",
      "\tswift\n",
      "\tpascal\n",
      "\tcobal\n"
     ]
    }
   ],
   "source": [
    "print(\"favourite_programming_language_:\\n\\tpython\\n\\tjava\\n\\tC++\\n\\tswift\\n\\tpascal\\n\\tcobal\")"
   ]
  },
  {
   "cell_type": "code",
   "execution_count": null,
   "id": "34e5f303",
   "metadata": {},
   "outputs": [],
   "source": []
  },
  {
   "cell_type": "code",
   "execution_count": null,
   "id": "209a6749",
   "metadata": {},
   "outputs": [],
   "source": [
    "Removing whitespaces from strings :"
   ]
  },
  {
   "cell_type": "code",
   "execution_count": 7,
   "id": "d973ccc1",
   "metadata": {},
   "outputs": [
    {
     "name": "stdout",
     "output_type": "stream",
     "text": [
      "python\n"
     ]
    }
   ],
   "source": [
    "name = 'python'\n",
    "\n",
    "print(name)"
   ]
  },
  {
   "cell_type": "code",
   "execution_count": 8,
   "id": "6c57b068",
   "metadata": {},
   "outputs": [
    {
     "name": "stdout",
     "output_type": "stream",
     "text": [
      "     python\n"
     ]
    }
   ],
   "source": [
    "name2 = '     python'\n",
    "\n",
    "print(name2)"
   ]
  },
  {
   "cell_type": "code",
   "execution_count": 9,
   "id": "1cbaa703",
   "metadata": {},
   "outputs": [
    {
     "name": "stdout",
     "output_type": "stream",
     "text": [
      "python     \n"
     ]
    }
   ],
   "source": [
    "name3 = 'python     '\n",
    "\n",
    "print(name3)"
   ]
  },
  {
   "cell_type": "code",
   "execution_count": 10,
   "id": "cbf851fb",
   "metadata": {},
   "outputs": [
    {
     "data": {
      "text/plain": [
       "'python'"
      ]
     },
     "execution_count": 10,
     "metadata": {},
     "output_type": "execute_result"
    }
   ],
   "source": [
    "name2.lstrip()"
   ]
  },
  {
   "cell_type": "code",
   "execution_count": 11,
   "id": "b6e23256",
   "metadata": {},
   "outputs": [
    {
     "data": {
      "text/plain": [
       "'python'"
      ]
     },
     "execution_count": 11,
     "metadata": {},
     "output_type": "execute_result"
    }
   ],
   "source": [
    "name3.rstrip()"
   ]
  },
  {
   "cell_type": "code",
   "execution_count": 12,
   "id": "311e5d41",
   "metadata": {},
   "outputs": [
    {
     "name": "stdout",
     "output_type": "stream",
     "text": [
      "  python   \n"
     ]
    }
   ],
   "source": [
    "name4 = '  python   '\n",
    "\n",
    "print(name4)"
   ]
  },
  {
   "cell_type": "code",
   "execution_count": 13,
   "id": "af25c578",
   "metadata": {},
   "outputs": [
    {
     "data": {
      "text/plain": [
       "'python'"
      ]
     },
     "execution_count": 13,
     "metadata": {},
     "output_type": "execute_result"
    }
   ],
   "source": [
    "name4.strip() # search + execute...."
   ]
  },
  {
   "cell_type": "code",
   "execution_count": null,
   "id": "28101edc",
   "metadata": {},
   "outputs": [],
   "source": []
  },
  {
   "cell_type": "code",
   "execution_count": null,
   "id": "2db647b1",
   "metadata": {},
   "outputs": [],
   "source": []
  },
  {
   "cell_type": "code",
   "execution_count": null,
   "id": "ece8eace",
   "metadata": {},
   "outputs": [],
   "source": []
  },
  {
   "cell_type": "code",
   "execution_count": null,
   "id": "ad17ebe9",
   "metadata": {},
   "outputs": [],
   "source": []
  },
  {
   "cell_type": "code",
   "execution_count": null,
   "id": "6093356d",
   "metadata": {},
   "outputs": [],
   "source": []
  },
  {
   "cell_type": "code",
   "execution_count": null,
   "id": "4248d6b1",
   "metadata": {},
   "outputs": [],
   "source": []
  },
  {
   "cell_type": "code",
   "execution_count": null,
   "id": "b1f7ab53",
   "metadata": {},
   "outputs": [],
   "source": []
  }
 ],
 "metadata": {
  "kernelspec": {
   "display_name": "Python 3 (ipykernel)",
   "language": "python",
   "name": "python3"
  },
  "language_info": {
   "codemirror_mode": {
    "name": "ipython",
    "version": 3
   },
   "file_extension": ".py",
   "mimetype": "text/x-python",
   "name": "python",
   "nbconvert_exporter": "python",
   "pygments_lexer": "ipython3",
   "version": "3.9.13"
  }
 },
 "nbformat": 4,
 "nbformat_minor": 5
}
